{
 "cells": [
  {
   "cell_type": "code",
   "execution_count": 18,
   "metadata": {},
   "outputs": [],
   "source": [
    "import os\n",
    "from selenium import webdriver\n",
    "from selenium.webdriver.edge.service import Service\n",
    "from selenium.webdriver.edge.options import Options\n",
    "import time\n",
    "from bs4 import BeautifulSoup\n",
    "from urllib.parse import urlparse, parse_qs,unquote\n",
    "import base64\n",
    "from tqdm import tqdm\n",
    "import json\n",
    "import openai\n",
    "from openai import OpenAI\n",
    "openai.api_key = os.environ['OPENAI_API_KEY']\n",
    "\n",
    "from concurrent.futures import ThreadPoolExecutor"
   ]
  },
  {
   "cell_type": "code",
   "execution_count": 10,
   "metadata": {},
   "outputs": [],
   "source": [
    "conference_dict = {\n",
    "    \"A\": [\"ACL\", \"ICML\", \"SIGKDD\", \"AAAI\", \"NeurIPS\", \"IJCAI\",\"CVPR\", \"SIGMOD\", \"ICDE\", \"ICCV\"],\n",
    "    \"B\": [\"EMNLP\", \"EAACL\"]\n",
    "}\n",
    "\n",
    "# years\n",
    "years = list(range(2019, 2025))\n",
    "years = [str(i) for i in years]"
   ]
  },
  {
   "cell_type": "code",
   "execution_count": 11,
   "metadata": {},
   "outputs": [],
   "source": [
    "# 创建文件夹\n",
    "for key in conference_dict.keys():\n",
    "    os.makedirs(f\"./{key}\", exist_ok=True)\n",
    "    for conference in conference_dict[key]:\n",
    "        os.makedirs(f\"./{key}/{conference}\", exist_ok=True)\n",
    "# 创建临时文件夹\n",
    "os.makedirs(\"./tmp\", exist_ok=True)\n",
    "os.makedirs(\"./tmp/get_search_result\", exist_ok=True)"
   ]
  },
  {
   "cell_type": "code",
   "execution_count": 4,
   "metadata": {},
   "outputs": [],
   "source": []
  },
  {
   "cell_type": "code",
   "execution_count": 12,
   "metadata": {},
   "outputs": [],
   "source": [
    "# parser\n",
    "def parser_result_html(html_txt):\n",
    "    # 使用BeautifulSoup解析页面源码\n",
    "    soup = BeautifulSoup(html_txt, 'html.parser')\n",
    "\n",
    "    # 找到<main>容器\n",
    "    main_container = soup.find('main')\n",
    "\n",
    "    # 找到<ol>容器\n",
    "    ol_container = main_container.find('ol')\n",
    "\n",
    "    # 初始化大列表\n",
    "    result_list = []\n",
    "\n",
    "    # 遍历每个<li>容器\n",
    "    for li in ol_container.find_all('li'):\n",
    "        # 找到第一个<h2>容器下的<a>容器\n",
    "        h2 = li.find('h2')\n",
    "        if h2:\n",
    "            a_tag = h2.find('a')\n",
    "            if a_tag:\n",
    "                # 提取href和内部文本\n",
    "                text = a_tag.get_text(strip=True)\n",
    "                href = a_tag.get('href')\n",
    "\n",
    "                parsed_url = urlparse(href)\n",
    "                query_params = parse_qs(parsed_url.query)\n",
    "\n",
    "                encoded_url = query_params.get('u', [''])[0][2:]\n",
    "                encoded_url += \"=\" * ((4 - len(encoded_url) % 4) % 4)\n",
    "                encoded_url = encoded_url.replace(\"_\",\"/\").replace(\"-\",\"+\")\n",
    "                \n",
    "                try:\n",
    "                    decoded_url = base64.b64decode(encoded_url).decode('utf-8')\n",
    "                except Exception as e:\n",
    "                    print(parsed_url.query)\n",
    "                    raise e\n",
    "                # 将结果添加到列表中\n",
    "                result_list.append([text, decoded_url])\n",
    "    return result_list\n",
    "\n",
    "# search conferences\n",
    "def search_conference(level, conference, year, driver):\n",
    "    url = f\"https://www.bing.com/search?q={year}+{conference}+accepted+paper&num=10\"\n",
    "    \n",
    "    driver.get(url)\n",
    "    time.sleep(5)\n",
    "    response_txt = driver.page_source\n",
    "    \n",
    "    results = parser_result_html(response_txt)\n",
    "    with open(f\"./tmp/get_search_result/{level}_{conference}_{year}.txt\", \"w\", encoding=\"utf-8\") as f:\n",
    "        for item in results:\n",
    "            f.write(f\"{item[0]}\\t{item[1]}\\n\")"
   ]
  },
  {
   "cell_type": "code",
   "execution_count": 13,
   "metadata": {},
   "outputs": [],
   "source": [
    "options = Options()\n",
    "options.add_argument(\"--headless\")  # 无头模式，不打开浏览器窗口\n",
    "options.add_argument(\"--disable-gpu\")  # 禁用 GPU 渲染\n",
    "options.add_argument(\"--no-sandbox\")  # 禁用沙盒模式\n",
    "options.add_argument(\"--disable-dev-shm-usage\")  # 避免内存不足问题\n",
    "service = Service(r\"D:\\Applications\\edgedriver\\msedgedriver.exe\")\n",
    "driver = webdriver.Edge(service=service, options=options)"
   ]
  },
  {
   "cell_type": "code",
   "execution_count": 14,
   "metadata": {},
   "outputs": [],
   "source": [
    "if os.path.exists(\"./tmp/param_string_list.json\"):\n",
    "    param_string_list = json.load(open(\"./tmp/param_string_list.json\"))\n",
    "else:\n",
    "    param_string_list = []\n",
    "old_param_list = []\n",
    "new_param_list = []\n",
    "for key in conference_dict.keys():\n",
    "    for conference in conference_dict[key]:\n",
    "        for year in years:\n",
    "            param_string = f\"{key}_{conference}_{year}\"\n",
    "            if param_string in param_string_list:\n",
    "                old_param_list.append((key, conference, year))\n",
    "            else:\n",
    "                new_param_list.append((key, conference, year))\n",
    "param_list = old_param_list + new_param_list\n",
    "with open(\"./tmp/param_string_list.json\", \"w\", encoding=\"utf-8\") as f:\n",
    "    new_param_string_list =[f\"{i[0]}_{i[1]}_{i[2]}\" for i in param_list]\n",
    "    json.dump(new_param_string_list, f)"
   ]
  },
  {
   "cell_type": "code",
   "execution_count": 15,
   "metadata": {},
   "outputs": [],
   "source": [
    "# 加载checkpoint文件\n",
    "if os.path.exists(\"./tmp/get_search_result_checkpoint.json\"):\n",
    "    get_search_result_checkpoint = json.load(open(\"./tmp/get_search_result_checkpoint.json\", \"r\", encoding=\"utf-8\"))\n",
    "else:\n",
    "    get_search_result_checkpoint = []\n"
   ]
  },
  {
   "cell_type": "code",
   "execution_count": 16,
   "metadata": {},
   "outputs": [
    {
     "name": "stderr",
     "output_type": "stream",
     "text": [
      "100%|██████████| 78/78 [00:00<00:00, 39708.18it/s]"
     ]
    },
    {
     "name": "stdout",
     "output_type": "stream",
     "text": [
      "skipping A_ACL_2019\n",
      "skipping A_ACL_2020\n",
      "skipping A_ACL_2021\n",
      "skipping A_ACL_2022\n",
      "skipping A_ACL_2023\n",
      "skipping A_ACL_2024\n",
      "skipping A_ICML_2019\n",
      "skipping A_ICML_2020\n",
      "skipping A_ICML_2021\n",
      "skipping A_ICML_2022\n",
      "skipping A_ICML_2023\n",
      "skipping A_ICML_2024\n",
      "skipping A_SIGKDD_2019\n",
      "skipping A_SIGKDD_2020\n",
      "skipping A_SIGKDD_2021\n",
      "skipping A_SIGKDD_2022\n",
      "skipping A_SIGKDD_2023\n",
      "skipping A_SIGKDD_2024\n",
      "skipping A_AAAI_2019\n",
      "skipping A_AAAI_2020\n",
      "skipping A_AAAI_2021\n",
      "skipping A_AAAI_2022\n",
      "skipping A_AAAI_2023\n",
      "skipping A_AAAI_2024\n",
      "skipping A_NeurIPS_2019\n",
      "skipping A_NeurIPS_2020\n",
      "skipping A_NeurIPS_2021\n",
      "skipping A_NeurIPS_2022\n",
      "skipping A_NeurIPS_2023\n",
      "skipping A_NeurIPS_2024\n",
      "skipping A_IJCAI_2019\n",
      "skipping A_IJCAI_2020\n",
      "skipping A_IJCAI_2021\n",
      "skipping A_IJCAI_2022\n",
      "skipping A_IJCAI_2023\n",
      "skipping A_IJCAI_2024\n",
      "skipping A_CVPR_2019\n",
      "skipping A_CVPR_2020\n",
      "skipping A_CVPR_2021\n",
      "skipping A_CVPR_2022\n",
      "skipping A_CVPR_2023\n",
      "skipping A_CVPR_2024\n",
      "skipping A_SIGMOD_2019\n",
      "skipping A_SIGMOD_2020\n",
      "skipping A_SIGMOD_2021\n",
      "skipping A_SIGMOD_2022\n",
      "skipping A_SIGMOD_2023\n",
      "skipping A_SIGMOD_2024\n",
      "skipping A_ICDE_2019\n",
      "skipping A_ICDE_2020\n",
      "skipping A_ICDE_2021\n",
      "skipping A_ICDE_2022\n",
      "skipping A_ICDE_2023\n",
      "skipping A_ICDE_2024\n",
      "skipping A_VLDB_2019\n",
      "skipping A_VLDB_2020\n",
      "skipping A_VLDB_2021\n",
      "skipping A_VLDB_2022\n",
      "skipping A_VLDB_2023\n",
      "skipping A_VLDB_2024\n",
      "skipping A_ICCV_2019\n",
      "skipping A_ICCV_2020\n",
      "skipping A_ICCV_2021\n",
      "skipping A_ICCV_2022\n",
      "skipping A_ICCV_2023\n",
      "skipping A_ICCV_2024\n",
      "skipping B_EMNLP_2019\n",
      "skipping B_EMNLP_2020\n",
      "skipping B_EMNLP_2021\n",
      "skipping B_EMNLP_2022\n",
      "skipping B_EMNLP_2023\n",
      "skipping B_EMNLP_2024\n",
      "skipping B_EAACL_2019\n",
      "skipping B_EAACL_2020\n",
      "skipping B_EAACL_2021\n",
      "skipping B_EAACL_2022\n",
      "skipping B_EAACL_2023\n",
      "skipping B_EAACL_2024\n"
     ]
    },
    {
     "name": "stderr",
     "output_type": "stream",
     "text": [
      "\n"
     ]
    }
   ],
   "source": [
    "try:\n",
    "    for param in tqdm(param_list):\n",
    "        param_string = \"_\".join(param)\n",
    "        if param_string in get_search_result_checkpoint:\n",
    "            print(f\"skipping {param_string}\")\n",
    "            continue\n",
    "        search_conference(*param, driver)\n",
    "        get_search_result_checkpoint.append(param_string)\n",
    "except Exception as e:\n",
    "    print(e)\n",
    "    raise e\n",
    "finally:\n",
    "    json.dump(get_search_result_checkpoint, open(\"./tmp/get_search_result_checkpoint.json\", \"w\", encoding=\"utf-8\"))\n",
    "    driver.quit()"
   ]
  },
  {
   "cell_type": "code",
   "execution_count": 17,
   "metadata": {},
   "outputs": [],
   "source": [
    "client = OpenAI(base_url=\"https://api.deepseek.com/beta\")\n",
    "prompt_template = '''请你阅读以下内容，并判断其中最可能是顶级会议接受论文的网址是那个，并给出回答。\n",
    "AAAI尽量选择跟https://dblp.org/有关的网址。\n",
    "CVPR选择原网址。\n",
    "输出格式为: \\\"网址为: <url>\\\"，后面不添加任何附加的理由和解释。\n",
    "'''\n",
    "\n",
    "def get_most_possible_url(input):\n",
    "    global client\n",
    "    global prompt_template\n",
    "    response = client.chat.completions.create(\n",
    "        model=\"deepseek-chat\",\n",
    "        messages=[\n",
    "            {\"role\": \"system\", \"content\": prompt_template},\n",
    "            {\"role\": \"user\", \"content\": input}\n",
    "        ],\n",
    "        temperature=0,\n",
    "        stream=False\n",
    "    )\n",
    "    return response.choices[0].message.content.replace(\"网址为: \",\"\")"
   ]
  },
  {
   "cell_type": "code",
   "execution_count": 18,
   "metadata": {},
   "outputs": [],
   "source": [
    "# 加载checkpoint文件\n",
    "if os.path.exists(\"./tmp/get_most_possible_url_checkpoint.json\"):\n",
    "    get_most_possible_url_checkpoint = json.load(open(\"./tmp/get_most_possible_url_checkpoint.json\", \"r\", encoding=\"utf-8\"))\n",
    "else:\n",
    "    get_most_possible_url_checkpoint = []"
   ]
  },
  {
   "cell_type": "code",
   "execution_count": 19,
   "metadata": {},
   "outputs": [],
   "source": [
    "# 加载输出文件\n",
    "if os.path.exists(\"./tmp/get_most_possible_url_output.json\"):\n",
    "    get_most_possible_url_output = json.load(open(\"./tmp/get_most_possible_url_output.json\", \"r\", encoding=\"utf-8\"))\n",
    "else:\n",
    "    get_most_possible_url_output = []"
   ]
  },
  {
   "cell_type": "code",
   "execution_count": 34,
   "metadata": {},
   "outputs": [],
   "source": []
  },
  {
   "cell_type": "code",
   "execution_count": 20,
   "metadata": {},
   "outputs": [
    {
     "name": "stderr",
     "output_type": "stream",
     "text": [
      "100%|██████████| 78/78 [01:55<00:00,  1.48s/it]\n"
     ]
    }
   ],
   "source": [
    "try:\n",
    "    for param in tqdm(param_list):\n",
    "        param_string = \"_\".join(param)\n",
    "        if param_string in get_most_possible_url_checkpoint:\n",
    "            print(f\"skipping {param_string}\")\n",
    "            continue\n",
    "        input = open(f\"./tmp/get_search_result/{param_string}.txt\", \"r\", encoding=\"utf-8\").read()\n",
    "        url = get_most_possible_url(input)\n",
    "        get_most_possible_url_output.append(url)\n",
    "        get_most_possible_url_checkpoint.append(param_string)\n",
    "except Exception as e:\n",
    "    print(e)\n",
    "    raise e\n",
    "finally:\n",
    "    json.dump(get_most_possible_url_checkpoint, open(\"./tmp/get_most_possible_url_checkpoint.json\", \"w\", encoding=\"utf-8\"))\n",
    "    json.dump(get_most_possible_url_output, open(\"./tmp/get_most_possible_url_output.json\", \"w\", encoding=\"utf-8\"))\n"
   ]
  },
  {
   "cell_type": "code",
   "execution_count": 21,
   "metadata": {},
   "outputs": [],
   "source": [
    "# 创立页面文件夹\n",
    "os.makedirs(\"./tmp/html\",exist_ok=True)"
   ]
  },
  {
   "cell_type": "code",
   "execution_count": 22,
   "metadata": {},
   "outputs": [],
   "source": [
    "def get_html(url, driver, save_path):\n",
    "    driver.get(url)\n",
    "    time.sleep(10)\n",
    "    html = driver.page_source\n",
    "    with open(save_path, \"w\", encoding=\"utf-8\") as f:\n",
    "        f.write(html)\n",
    "    return html"
   ]
  },
  {
   "cell_type": "code",
   "execution_count": 23,
   "metadata": {},
   "outputs": [],
   "source": [
    "options = Options()\n",
    "options.add_argument(\"--headless\")  # 无头模式，不打开浏览器窗口\n",
    "options.add_argument(\"--disable-gpu\")  # 禁用 GPU 渲染\n",
    "options.add_argument(\"--no-sandbox\")  # 禁用沙盒模式\n",
    "options.add_argument(\"--disable-dev-shm-usage\")  # 避免内存不足问题\n",
    "service = Service(r\"D:\\Applications\\edgedriver\\msedgedriver.exe\")\n",
    "driver = webdriver.Edge(service=service, options=options)"
   ]
  },
  {
   "cell_type": "code",
   "execution_count": 24,
   "metadata": {},
   "outputs": [],
   "source": [
    "url_list = json.load(open(\"./tmp/get_most_possible_url_output.json\"))"
   ]
  },
  {
   "cell_type": "code",
   "execution_count": 25,
   "metadata": {},
   "outputs": [],
   "source": [
    "# 加载checkpoint\n",
    "\n",
    "if os.path.exists(\"./tmp/get_html_checkpoint.json\"):\n",
    "    get_html_checkpoint = json.load(open(\"./tmp/get_html_checkpoint.json\", \"r\", encoding=\"utf-8\"))\n",
    "else:\n",
    "    get_html_checkpoint = []"
   ]
  },
  {
   "cell_type": "code",
   "execution_count": 26,
   "metadata": {},
   "outputs": [
    {
     "name": "stderr",
     "output_type": "stream",
     "text": [
      "33it [11:05, 20.17s/it]\n"
     ]
    },
    {
     "name": "stdout",
     "output_type": "stream",
     "text": [
      "Message: unknown error: net::ERR_CONNECTION_RESET\n",
      "  (Session info: MicrosoftEdge=132.0.2957.127)\n",
      "Stacktrace:\n",
      "\tGetHandleVerifier [0x00007FF6E1320AF5+13637]\n",
      "\tMicrosoft::Applications::Events::EventProperty::empty [0x00007FF6E15ABC04+2078868]\n",
      "\tMicrosoft::Applications::Events::EventProperty::empty [0x00007FF6E15066E6+1401718]\n",
      "\t(No symbol) [0x00007FF6E10933F7]\n",
      "\t(No symbol) [0x00007FF6E1087AB7]\n",
      "\t(No symbol) [0x00007FF6E10890CD]\n",
      "\t(No symbol) [0x00007FF6E1087CBF]\n",
      "\t(No symbol) [0x00007FF6E1087923]\n",
      "\t(No symbol) [0x00007FF6E1087678]\n",
      "\t(No symbol) [0x00007FF6E1085897]\n",
      "\t(No symbol) [0x00007FF6E1085CEC]\n",
      "\t(No symbol) [0x00007FF6E1097FFA]\n",
      "\t(No symbol) [0x00007FF6E11190CE]\n",
      "\t(No symbol) [0x00007FF6E10FDDCA]\n",
      "\t(No symbol) [0x00007FF6E10D3DA7]\n",
      "\t(No symbol) [0x00007FF6E11188FD]\n",
      "\t(No symbol) [0x00007FF6E10FDA33]\n",
      "\t(No symbol) [0x00007FF6E10D32F4]\n",
      "\t(No symbol) [0x00007FF6E10D2626]\n",
      "\t(No symbol) [0x00007FF6E10D2EE1]\n",
      "\t(No symbol) [0x00007FF6E115E194]\n",
      "\t(No symbol) [0x00007FF6E120607F]\n",
      "\t(No symbol) [0x00007FF6E1161B83]\n",
      "\tMicrosoft::Applications::Events::EventProperty::to_string [0x00007FF6E16681F9+269801]\n",
      "\tMicrosoft::Applications::Events::ILogConfiguration::operator* [0x00007FF6E12B71B1+519377]\n",
      "\tMicrosoft::Applications::Events::ILogConfiguration::operator* [0x00007FF6E12B24A4+499652]\n",
      "\tMicrosoft::Applications::Events::ILogConfiguration::operator* [0x00007FF6E12B25E9+499977]\n",
      "\tMicrosoft::Applications::Events::ILogConfiguration::operator* [0x00007FF6E12A7566+454790]\n",
      "\tBaseThreadInitThunk [0x00007FFBC3FE7374+20]\n",
      "\tRtlUserThreadStart [0x00007FFBC491CC91+33]\n",
      "\n"
     ]
    },
    {
     "ename": "WebDriverException",
     "evalue": "Message: unknown error: net::ERR_CONNECTION_RESET\n  (Session info: MicrosoftEdge=132.0.2957.127)\nStacktrace:\n\tGetHandleVerifier [0x00007FF6E1320AF5+13637]\n\tMicrosoft::Applications::Events::EventProperty::empty [0x00007FF6E15ABC04+2078868]\n\tMicrosoft::Applications::Events::EventProperty::empty [0x00007FF6E15066E6+1401718]\n\t(No symbol) [0x00007FF6E10933F7]\n\t(No symbol) [0x00007FF6E1087AB7]\n\t(No symbol) [0x00007FF6E10890CD]\n\t(No symbol) [0x00007FF6E1087CBF]\n\t(No symbol) [0x00007FF6E1087923]\n\t(No symbol) [0x00007FF6E1087678]\n\t(No symbol) [0x00007FF6E1085897]\n\t(No symbol) [0x00007FF6E1085CEC]\n\t(No symbol) [0x00007FF6E1097FFA]\n\t(No symbol) [0x00007FF6E11190CE]\n\t(No symbol) [0x00007FF6E10FDDCA]\n\t(No symbol) [0x00007FF6E10D3DA7]\n\t(No symbol) [0x00007FF6E11188FD]\n\t(No symbol) [0x00007FF6E10FDA33]\n\t(No symbol) [0x00007FF6E10D32F4]\n\t(No symbol) [0x00007FF6E10D2626]\n\t(No symbol) [0x00007FF6E10D2EE1]\n\t(No symbol) [0x00007FF6E115E194]\n\t(No symbol) [0x00007FF6E120607F]\n\t(No symbol) [0x00007FF6E1161B83]\n\tMicrosoft::Applications::Events::EventProperty::to_string [0x00007FF6E16681F9+269801]\n\tMicrosoft::Applications::Events::ILogConfiguration::operator* [0x00007FF6E12B71B1+519377]\n\tMicrosoft::Applications::Events::ILogConfiguration::operator* [0x00007FF6E12B24A4+499652]\n\tMicrosoft::Applications::Events::ILogConfiguration::operator* [0x00007FF6E12B25E9+499977]\n\tMicrosoft::Applications::Events::ILogConfiguration::operator* [0x00007FF6E12A7566+454790]\n\tBaseThreadInitThunk [0x00007FFBC3FE7374+20]\n\tRtlUserThreadStart [0x00007FFBC491CC91+33]\n",
     "output_type": "error",
     "traceback": [
      "\u001b[1;31m---------------------------------------------------------------------------\u001b[0m",
      "\u001b[1;31mWebDriverException\u001b[0m                        Traceback (most recent call last)",
      "Cell \u001b[1;32mIn[26], line 12\u001b[0m\n\u001b[0;32m     10\u001b[0m \u001b[38;5;28;01mexcept\u001b[39;00m \u001b[38;5;167;01mException\u001b[39;00m \u001b[38;5;28;01mas\u001b[39;00m e:\n\u001b[0;32m     11\u001b[0m     \u001b[38;5;28mprint\u001b[39m(e)\n\u001b[1;32m---> 12\u001b[0m     \u001b[38;5;28;01mraise\u001b[39;00m e\n\u001b[0;32m     13\u001b[0m \u001b[38;5;28;01mfinally\u001b[39;00m:\n\u001b[0;32m     14\u001b[0m     json\u001b[38;5;241m.\u001b[39mdump(get_html_checkpoint, \u001b[38;5;28mopen\u001b[39m(\u001b[38;5;124m\"\u001b[39m\u001b[38;5;124m./tmp/get_html_checkpoint.json\u001b[39m\u001b[38;5;124m\"\u001b[39m, \u001b[38;5;124m\"\u001b[39m\u001b[38;5;124mw\u001b[39m\u001b[38;5;124m\"\u001b[39m, encoding\u001b[38;5;241m=\u001b[39m\u001b[38;5;124m\"\u001b[39m\u001b[38;5;124mutf-8\u001b[39m\u001b[38;5;124m\"\u001b[39m))\n",
      "Cell \u001b[1;32mIn[26], line 8\u001b[0m\n\u001b[0;32m      6\u001b[0m             \u001b[38;5;28;01mcontinue\u001b[39;00m\n\u001b[0;32m      7\u001b[0m         save_path \u001b[38;5;241m=\u001b[39m\u001b[38;5;124mf\u001b[39m\u001b[38;5;124m\"\u001b[39m\u001b[38;5;124m./tmp/html/\u001b[39m\u001b[38;5;132;01m{\u001b[39;00mparam_string\u001b[38;5;132;01m}\u001b[39;00m\u001b[38;5;124m.html\u001b[39m\u001b[38;5;124m\"\u001b[39m\n\u001b[1;32m----> 8\u001b[0m         \u001b[43mget_html\u001b[49m\u001b[43m(\u001b[49m\u001b[43murl\u001b[49m\u001b[43m,\u001b[49m\u001b[43m \u001b[49m\u001b[43mdriver\u001b[49m\u001b[43m,\u001b[49m\u001b[43m \u001b[49m\u001b[43msave_path\u001b[49m\u001b[43m)\u001b[49m\n\u001b[0;32m      9\u001b[0m         get_html_checkpoint\u001b[38;5;241m.\u001b[39mappend(param_string)\n\u001b[0;32m     10\u001b[0m \u001b[38;5;28;01mexcept\u001b[39;00m \u001b[38;5;167;01mException\u001b[39;00m \u001b[38;5;28;01mas\u001b[39;00m e:\n",
      "Cell \u001b[1;32mIn[22], line 2\u001b[0m, in \u001b[0;36mget_html\u001b[1;34m(url, driver, save_path)\u001b[0m\n\u001b[0;32m      1\u001b[0m \u001b[38;5;28;01mdef\u001b[39;00m\u001b[38;5;250m \u001b[39m\u001b[38;5;21mget_html\u001b[39m(url, driver, save_path):\n\u001b[1;32m----> 2\u001b[0m     \u001b[43mdriver\u001b[49m\u001b[38;5;241;43m.\u001b[39;49m\u001b[43mget\u001b[49m\u001b[43m(\u001b[49m\u001b[43murl\u001b[49m\u001b[43m)\u001b[49m\n\u001b[0;32m      3\u001b[0m     time\u001b[38;5;241m.\u001b[39msleep(\u001b[38;5;241m10\u001b[39m)\n\u001b[0;32m      4\u001b[0m     html \u001b[38;5;241m=\u001b[39m driver\u001b[38;5;241m.\u001b[39mpage_source\n",
      "File \u001b[1;32md:\\Users\\86133\\miniconda3\\envs\\paperlist\\lib\\site-packages\\selenium\\webdriver\\remote\\webdriver.py:454\u001b[0m, in \u001b[0;36mWebDriver.get\u001b[1;34m(self, url)\u001b[0m\n\u001b[0;32m    436\u001b[0m \u001b[38;5;28;01mdef\u001b[39;00m\u001b[38;5;250m \u001b[39m\u001b[38;5;21mget\u001b[39m(\u001b[38;5;28mself\u001b[39m, url: \u001b[38;5;28mstr\u001b[39m) \u001b[38;5;241m-\u001b[39m\u001b[38;5;241m>\u001b[39m \u001b[38;5;28;01mNone\u001b[39;00m:\n\u001b[0;32m    437\u001b[0m \u001b[38;5;250m    \u001b[39m\u001b[38;5;124;03m\"\"\"Navigate the browser to the specified URL in the current window or\u001b[39;00m\n\u001b[0;32m    438\u001b[0m \u001b[38;5;124;03m    tab.\u001b[39;00m\n\u001b[0;32m    439\u001b[0m \n\u001b[1;32m   (...)\u001b[0m\n\u001b[0;32m    452\u001b[0m \u001b[38;5;124;03m    >>> driver.get(\"https://example.com\")\u001b[39;00m\n\u001b[0;32m    453\u001b[0m \u001b[38;5;124;03m    \"\"\"\u001b[39;00m\n\u001b[1;32m--> 454\u001b[0m     \u001b[38;5;28;43mself\u001b[39;49m\u001b[38;5;241;43m.\u001b[39;49m\u001b[43mexecute\u001b[49m\u001b[43m(\u001b[49m\u001b[43mCommand\u001b[49m\u001b[38;5;241;43m.\u001b[39;49m\u001b[43mGET\u001b[49m\u001b[43m,\u001b[49m\u001b[43m \u001b[49m\u001b[43m{\u001b[49m\u001b[38;5;124;43m\"\u001b[39;49m\u001b[38;5;124;43murl\u001b[39;49m\u001b[38;5;124;43m\"\u001b[39;49m\u001b[43m:\u001b[49m\u001b[43m \u001b[49m\u001b[43murl\u001b[49m\u001b[43m}\u001b[49m\u001b[43m)\u001b[49m\n",
      "File \u001b[1;32md:\\Users\\86133\\miniconda3\\envs\\paperlist\\lib\\site-packages\\selenium\\webdriver\\remote\\webdriver.py:429\u001b[0m, in \u001b[0;36mWebDriver.execute\u001b[1;34m(self, driver_command, params)\u001b[0m\n\u001b[0;32m    427\u001b[0m response \u001b[38;5;241m=\u001b[39m \u001b[38;5;28mself\u001b[39m\u001b[38;5;241m.\u001b[39mcommand_executor\u001b[38;5;241m.\u001b[39mexecute(driver_command, params)\n\u001b[0;32m    428\u001b[0m \u001b[38;5;28;01mif\u001b[39;00m response:\n\u001b[1;32m--> 429\u001b[0m     \u001b[38;5;28;43mself\u001b[39;49m\u001b[38;5;241;43m.\u001b[39;49m\u001b[43merror_handler\u001b[49m\u001b[38;5;241;43m.\u001b[39;49m\u001b[43mcheck_response\u001b[49m\u001b[43m(\u001b[49m\u001b[43mresponse\u001b[49m\u001b[43m)\u001b[49m\n\u001b[0;32m    430\u001b[0m     response[\u001b[38;5;124m\"\u001b[39m\u001b[38;5;124mvalue\u001b[39m\u001b[38;5;124m\"\u001b[39m] \u001b[38;5;241m=\u001b[39m \u001b[38;5;28mself\u001b[39m\u001b[38;5;241m.\u001b[39m_unwrap_value(response\u001b[38;5;241m.\u001b[39mget(\u001b[38;5;124m\"\u001b[39m\u001b[38;5;124mvalue\u001b[39m\u001b[38;5;124m\"\u001b[39m, \u001b[38;5;28;01mNone\u001b[39;00m))\n\u001b[0;32m    431\u001b[0m     \u001b[38;5;28;01mreturn\u001b[39;00m response\n",
      "File \u001b[1;32md:\\Users\\86133\\miniconda3\\envs\\paperlist\\lib\\site-packages\\selenium\\webdriver\\remote\\errorhandler.py:232\u001b[0m, in \u001b[0;36mErrorHandler.check_response\u001b[1;34m(self, response)\u001b[0m\n\u001b[0;32m    230\u001b[0m         alert_text \u001b[38;5;241m=\u001b[39m value[\u001b[38;5;124m\"\u001b[39m\u001b[38;5;124malert\u001b[39m\u001b[38;5;124m\"\u001b[39m]\u001b[38;5;241m.\u001b[39mget(\u001b[38;5;124m\"\u001b[39m\u001b[38;5;124mtext\u001b[39m\u001b[38;5;124m\"\u001b[39m)\n\u001b[0;32m    231\u001b[0m     \u001b[38;5;28;01mraise\u001b[39;00m exception_class(message, screen, stacktrace, alert_text)  \u001b[38;5;66;03m# type: ignore[call-arg]  # mypy is not smart enough here\u001b[39;00m\n\u001b[1;32m--> 232\u001b[0m \u001b[38;5;28;01mraise\u001b[39;00m exception_class(message, screen, stacktrace)\n",
      "\u001b[1;31mWebDriverException\u001b[0m: Message: unknown error: net::ERR_CONNECTION_RESET\n  (Session info: MicrosoftEdge=132.0.2957.127)\nStacktrace:\n\tGetHandleVerifier [0x00007FF6E1320AF5+13637]\n\tMicrosoft::Applications::Events::EventProperty::empty [0x00007FF6E15ABC04+2078868]\n\tMicrosoft::Applications::Events::EventProperty::empty [0x00007FF6E15066E6+1401718]\n\t(No symbol) [0x00007FF6E10933F7]\n\t(No symbol) [0x00007FF6E1087AB7]\n\t(No symbol) [0x00007FF6E10890CD]\n\t(No symbol) [0x00007FF6E1087CBF]\n\t(No symbol) [0x00007FF6E1087923]\n\t(No symbol) [0x00007FF6E1087678]\n\t(No symbol) [0x00007FF6E1085897]\n\t(No symbol) [0x00007FF6E1085CEC]\n\t(No symbol) [0x00007FF6E1097FFA]\n\t(No symbol) [0x00007FF6E11190CE]\n\t(No symbol) [0x00007FF6E10FDDCA]\n\t(No symbol) [0x00007FF6E10D3DA7]\n\t(No symbol) [0x00007FF6E11188FD]\n\t(No symbol) [0x00007FF6E10FDA33]\n\t(No symbol) [0x00007FF6E10D32F4]\n\t(No symbol) [0x00007FF6E10D2626]\n\t(No symbol) [0x00007FF6E10D2EE1]\n\t(No symbol) [0x00007FF6E115E194]\n\t(No symbol) [0x00007FF6E120607F]\n\t(No symbol) [0x00007FF6E1161B83]\n\tMicrosoft::Applications::Events::EventProperty::to_string [0x00007FF6E16681F9+269801]\n\tMicrosoft::Applications::Events::ILogConfiguration::operator* [0x00007FF6E12B71B1+519377]\n\tMicrosoft::Applications::Events::ILogConfiguration::operator* [0x00007FF6E12B24A4+499652]\n\tMicrosoft::Applications::Events::ILogConfiguration::operator* [0x00007FF6E12B25E9+499977]\n\tMicrosoft::Applications::Events::ILogConfiguration::operator* [0x00007FF6E12A7566+454790]\n\tBaseThreadInitThunk [0x00007FFBC3FE7374+20]\n\tRtlUserThreadStart [0x00007FFBC491CC91+33]\n"
     ]
    }
   ],
   "source": [
    "try:\n",
    "    for param, url in tqdm(zip(param_list, url_list)):\n",
    "        param_string = \"_\".join(param)\n",
    "        if param_string in get_html_checkpoint:\n",
    "            print(f\"skipping {param_string}\")\n",
    "            continue\n",
    "        save_path =f\"./tmp/html/{param_string}.html\"\n",
    "        get_html(url, driver, save_path)\n",
    "        get_html_checkpoint.append(param_string)\n",
    "except Exception as e:\n",
    "    print(e)\n",
    "    raise e\n",
    "finally:\n",
    "    json.dump(get_html_checkpoint, open(\"./tmp/get_html_checkpoint.json\", \"w\", encoding=\"utf-8\"))\n",
    "    driver.quit()"
   ]
  },
  {
   "cell_type": "code",
   "execution_count": 27,
   "metadata": {},
   "outputs": [],
   "source": [
    "# html裁剪\n",
    "os.makedirs(\"./tmp/html_clean\", exist_ok=True)"
   ]
  },
  {
   "cell_type": "code",
   "execution_count": 14,
   "metadata": {},
   "outputs": [],
   "source": [
    "def parser_dblp(target_path):\n",
    "    html_content = open(target_path, \"r\", encoding=\"utf-8\").read()\n",
    "    soup = BeautifulSoup(html_content, \"lxml\")\n",
    "    body_tag = soup.find(\"body\")\n",
    "    if not body_tag:\n",
    "        raise ValueError(\"No body tag found\")\n",
    "    title_spans = body_tag.find_all(\"span\", class_=\"title\")\n",
    "    result = \"\"\n",
    "    for span in title_spans:\n",
    "        result += span.get_text(strip=True) + \"\\n\"\n",
    "    level, conference, year = target_path.split(\"/\")[-1].split(\".\")[0].split(\"_\")\n",
    "    save_path = f\"./{level}/{conference}/{year}.txt\"\n",
    "    with open(save_path, \"w\", encoding=\"utf-8\") as f:\n",
    "        f.write(result)"
   ]
  },
  {
   "cell_type": "code",
   "execution_count": null,
   "metadata": {},
   "outputs": [
    {
     "name": "stdout",
     "output_type": "stream",
     "text": [
      "./tmp/html/A_AAAI_2019.html\n",
      "./tmp/html/A_AAAI_2020.html\n",
      "./tmp/html/A_AAAI_2021.html\n",
      "./tmp/html/A_AAAI_2022.html\n",
      "./tmp/html/A_AAAI_2023.html\n",
      "./tmp/html/A_AAAI_2024.html\n"
     ]
    }
   ],
   "source": [
    "# target_paths = [f\"./tmp/html/A_AAAI_{i}.html\" for i in range(2019, 2025)]\n",
    "    \n",
    "# # 使用 ThreadPoolExecutor 进行多线程处理\n",
    "# with ThreadPoolExecutor(max_workers=4) as executor:\n",
    "#     executor.map(parser_dblp, target_paths)"
   ]
  },
  {
   "cell_type": "code",
   "execution_count": 19,
   "metadata": {},
   "outputs": [
    {
     "name": "stdout",
     "output_type": "stream",
     "text": [
      "./tmp/html/A_ACL_2021.html\n",
      "./tmp/html/A_ACL_2022.html\n",
      "./tmp/html/A_ACL_2019.html\n",
      "./tmp/html/A_ACL_2020.html\n",
      "./tmp/html/A_ACL_2024.html\n",
      "./tmp/html/A_ACL_2023.html\n"
     ]
    }
   ],
   "source": [
    "# target_paths = [f\"./tmp/html/A_ACL_{i}.html\" for i in range(2019, 2025)]\n",
    "    \n",
    "# # 使用 ThreadPoolExecutor 进行多线程处理\n",
    "# with ThreadPoolExecutor(max_workers=4) as executor:\n",
    "#     executor.map(parser_dblp, target_paths)"
   ]
  },
  {
   "cell_type": "code",
   "execution_count": 20,
   "metadata": {},
   "outputs": [
    {
     "name": "stdout",
     "output_type": "stream",
     "text": [
      "./tmp/html/A_CVPR_2019.html\n",
      "./tmp/html/A_CVPR_2020.html\n",
      "./tmp/html/A_CVPR_2021.html\n",
      "./tmp/html/A_CVPR_2022.html\n",
      "./tmp/html/A_CVPR_2023.html\n",
      "./tmp/html/A_CVPR_2024.html\n"
     ]
    }
   ],
   "source": [
    "# target_paths = [f\"./tmp/html/A_CVPR_{i}.html\" for i in range(2019, 2025)]\n",
    "    \n",
    "# # 使用 ThreadPoolExecutor 进行多线程处理\n",
    "# with ThreadPoolExecutor(max_workers=4) as executor:\n",
    "#     executor.map(parser_dblp, target_paths)"
   ]
  },
  {
   "cell_type": "code",
   "execution_count": 21,
   "metadata": {},
   "outputs": [
    {
     "name": "stdout",
     "output_type": "stream",
     "text": [
      "./tmp/html/A_ICCV_2019.html\n",
      "./tmp/html/A_ICCV_2021.html\n",
      "./tmp/html/A_ICCV_2023.html\n"
     ]
    }
   ],
   "source": [
    "# target_paths = [f\"./tmp/html/A_ICCV_{i}.html\" for i in range(2019, 2025, 2)]\n",
    "    \n",
    "# # 使用 ThreadPoolExecutor 进行多线程处理\n",
    "# with ThreadPoolExecutor(max_workers=3) as executor:\n",
    "#     executor.map(parser_dblp, target_paths)"
   ]
  },
  {
   "cell_type": "code",
   "execution_count": 22,
   "metadata": {},
   "outputs": [
    {
     "name": "stdout",
     "output_type": "stream",
     "text": [
      "./tmp/html/A_ICDE_2020.html\n",
      "./tmp/html/A_ICDE_2019.html\n",
      "./tmp/html/A_ICDE_2021.html\n",
      "./tmp/html/A_ICDE_2022.html\n",
      "./tmp/html/A_ICDE_2023.html\n",
      "./tmp/html/A_ICDE_2024.html\n"
     ]
    }
   ],
   "source": [
    "# target_paths = [f\"./tmp/html/A_ICDE_{i}.html\" for i in range(2019, 2025)]\n",
    "    \n",
    "# # 使用 ThreadPoolExecutor 进行多线程处理\n",
    "# with ThreadPoolExecutor(max_workers=4) as executor:\n",
    "#     executor.map(parser_dblp, target_paths)"
   ]
  },
  {
   "cell_type": "code",
   "execution_count": 23,
   "metadata": {},
   "outputs": [
    {
     "name": "stdout",
     "output_type": "stream",
     "text": [
      "./tmp/html/A_ICML_2019.html\n",
      "./tmp/html/A_ICML_2020.html\n",
      "./tmp/html/A_ICML_2021.html\n",
      "./tmp/html/A_ICML_2022.html\n",
      "./tmp/html/A_ICML_2023.html\n",
      "./tmp/html/A_ICML_2024.html\n"
     ]
    }
   ],
   "source": [
    "# target_paths = [f\"./tmp/html/A_ICML_{i}.html\" for i in range(2019, 2025)]\n",
    "    \n",
    "# # 使用 ThreadPoolExecutor 进行多线程处理\n",
    "# with ThreadPoolExecutor(max_workers=4) as executor:\n",
    "#     executor.map(parser_dblp, target_paths)"
   ]
  },
  {
   "cell_type": "code",
   "execution_count": 24,
   "metadata": {},
   "outputs": [
    {
     "name": "stdout",
     "output_type": "stream",
     "text": [
      "./tmp/html/A_IJCAI_2021.html\n",
      "./tmp/html/A_IJCAI_2020.html\n",
      "./tmp/html/A_IJCAI_2022.html\n",
      "./tmp/html/A_IJCAI_2019.html\n",
      "./tmp/html/A_IJCAI_2023.html\n",
      "./tmp/html/A_IJCAI_2024.html\n"
     ]
    }
   ],
   "source": [
    "# target_paths = [f\"./tmp/html/A_IJCAI_{i}.html\" for i in range(2019, 2025)]\n",
    "    \n",
    "# # 使用 ThreadPoolExecutor 进行多线程处理\n",
    "# with ThreadPoolExecutor(max_workers=4) as executor:\n",
    "#     executor.map(parser_dblp, target_paths)"
   ]
  },
  {
   "cell_type": "code",
   "execution_count": 25,
   "metadata": {},
   "outputs": [
    {
     "name": "stdout",
     "output_type": "stream",
     "text": [
      "./tmp/html/A_NeurIPS_2019.html\n",
      "./tmp/html/A_NeurIPS_2020.html\n",
      "./tmp/html/A_NeurIPS_2021.html\n",
      "./tmp/html/A_NeurIPS_2022.html\n",
      "./tmp/html/A_NeurIPS_2023.html\n"
     ]
    }
   ],
   "source": [
    "# target_paths = [f\"./tmp/html/A_NeurIPS_{i}.html\" for i in range(2019, 2024)]\n",
    "    \n",
    "# # 使用 ThreadPoolExecutor 进行多线程处理\n",
    "# with ThreadPoolExecutor(max_workers=4) as executor:\n",
    "#     executor.map(parser_dblp, target_paths)"
   ]
  },
  {
   "cell_type": "code",
   "execution_count": 48,
   "metadata": {},
   "outputs": [],
   "source": [
    "def parser_papercopilot(target_path):\n",
    "    html_content = open(target_path, \"r\", encoding=\"utf-8\").read()\n",
    "    soup = BeautifulSoup(html_content, \"lxml\")\n",
    "    body_tag = soup.find(\"body\")\n",
    "    if not body_tag:\n",
    "        raise ValueError(\"No body tag found\")\n",
    "    \n",
    "    result = \"\"\n",
    "\n",
    "    # 查找id为paperlist的table容器\n",
    "    paperlist_table = body_tag.find(\"table\", id='3D\"paperlist\"')\n",
    "    if not paperlist_table:\n",
    "        raise ValueError(\"No table with id 'paperlist' found\")\n",
    "    \n",
    "    # 查找table下的tbody容器\n",
    "    tbody = paperlist_table.find(\"tbody\")\n",
    "    if not tbody:\n",
    "        raise ValueError(\"No tbody found in the table\")\n",
    "    result = \"\"\n",
    "    \n",
    "    # 遍历tbody下的所有tr组件\n",
    "    for tr in tbody.find_all(\"tr\"):\n",
    "        # 获取tr下的第二个td组件\n",
    "        td_list = tr.find_all(\"td\")\n",
    "        if len(td_list) > 1:  # 确保至少有两个td组件\n",
    "            second_td = td_list[1]\n",
    "            # 获取第二个td组件下的<a>标签\n",
    "            a_tag = second_td.find(\"a\")\n",
    "            if a_tag:\n",
    "                # 获取<a>标签内部的文本（文章标题）并添加到result中\n",
    "                result += a_tag.get_text(strip=True) + \"\\n\"\n",
    "\n",
    "    level, conference, year = target_path.split(\"/\")[-1].split(\".\")[0].split(\"_\")\n",
    "    save_path = f\"./{level}/{conference}/{year}.txt\"\n",
    "    with open(save_path, \"w\", encoding=\"utf-8\") as f:\n",
    "        f.write(result.replace(\"=\\n\",\"\"))"
   ]
  },
  {
   "cell_type": "code",
   "execution_count": 50,
   "metadata": {},
   "outputs": [],
   "source": [
    "# parser_papercopilot(\"./tmp/html/A_NeurIPS_2024.mhtml\")"
   ]
  },
  {
   "cell_type": "code",
   "execution_count": 51,
   "metadata": {},
   "outputs": [
    {
     "name": "stdout",
     "output_type": "stream",
     "text": [
      "./tmp/html/A_SIGKDD_2019.html\n",
      "./tmp/html/A_SIGKDD_2020.html\n",
      "./tmp/html/A_SIGKDD_2021.html\n",
      "./tmp/html/A_SIGKDD_2022.html\n",
      "./tmp/html/A_SIGKDD_2023.html\n",
      "./tmp/html/A_SIGKDD_2024.html\n"
     ]
    }
   ],
   "source": [
    "# target_paths = [f\"./tmp/html/A_SIGKDD_{i}.html\" for i in range(2019, 2025)]\n",
    "    \n",
    "# # 使用 ThreadPoolExecutor 进行多线程处理\n",
    "# with ThreadPoolExecutor(max_workers=4) as executor:\n",
    "#     executor.map(parser_dblp, target_paths)"
   ]
  },
  {
   "cell_type": "code",
   "execution_count": 52,
   "metadata": {},
   "outputs": [
    {
     "name": "stdout",
     "output_type": "stream",
     "text": [
      "./tmp/html/A_SIGMOD_2019.html\n",
      "./tmp/html/A_SIGMOD_2022.html\n",
      "./tmp/html/A_SIGMOD_2020.html\n",
      "./tmp/html/A_SIGMOD_2023.html\n",
      "./tmp/html/A_SIGMOD_2021.html\n"
     ]
    }
   ],
   "source": [
    "# target_paths = [f\"./tmp/html/A_SIGMOD_{i}.html\" for i in range(2019, 2025)]\n",
    "    \n",
    "# # 使用 ThreadPoolExecutor 进行多线程处理\n",
    "# with ThreadPoolExecutor(max_workers=4) as executor:\n",
    "#     executor.map(parser_dblp, target_paths)"
   ]
  },
  {
   "cell_type": "code",
   "execution_count": 97,
   "metadata": {},
   "outputs": [],
   "source": [
    "def parser_eaacl(target_path):\n",
    "    html_content = open(target_path, \"r\", encoding=\"utf-8\").read()\n",
    "    soup = BeautifulSoup(html_content, \"lxml\")\n",
    "    body_tag = soup.find(\"body\")\n",
    "    if not body_tag:\n",
    "        raise ValueError(\"No body tag found\")\n",
    "    \n",
    "    result = \"\"\n",
    "\n",
    "    # 遍历<body>中的所有<p>标签\n",
    "    # print(body_tag.find_all(\"p\"))\n",
    "    for p_tag in body_tag.find_all(\"p\"):\n",
    "        # 检查<p>标签中是否包含<strong>标签\n",
    "        strong_tag = p_tag.find(\"strong\")\n",
    "        if strong_tag:\n",
    "            # 如果包含<strong>标签，提取其文本并拼接到result中\n",
    "            result += strong_tag.get_text().strip() + \"\\n\"\n",
    "        b_tag_list = p_tag.find_all(\"b\")\n",
    "        if b_tag_list:\n",
    "            for b_tag in b_tag_list:\n",
    "                result += b_tag.get_text().strip() + \"\\n\"\n",
    "\n",
    "    for li_tag in body_tag.find_all(\"li\"):\n",
    "        # 检查<li>标签中是否包含<strong>标签\n",
    "        strong_tag = li_tag.find(\"strong\")\n",
    "        if strong_tag:\n",
    "            # 如果包含<strong>标签，提取其文本并拼接到result中\n",
    "            result += strong_tag.get_text().strip() + \"\\n\"\n",
    "\n",
    "\n",
    "\n",
    "    level, conference, year = target_path.split(\"/\")[-1].split(\".\")[0].split(\"_\")\n",
    "    save_path = f\"./{level}/{conference}/{year}.txt\"\n",
    "    with open(save_path, \"w\", encoding=\"utf-8\") as f:\n",
    "        f.write(result.replace(\"=\\n\",\"\"))"
   ]
  },
  {
   "cell_type": "code",
   "execution_count": 98,
   "metadata": {},
   "outputs": [],
   "source": [
    "# target_paths = [f\"./tmp/html/B_EAACL_{i}.html\" for i in range(2019, 2025)]\n",
    "    \n",
    "# # 使用 ThreadPoolExecutor 进行多线程处理\n",
    "# with ThreadPoolExecutor(max_workers=4) as executor:\n",
    "#     executor.map(parser_eaacl, target_paths)"
   ]
  },
  {
   "cell_type": "code",
   "execution_count": 102,
   "metadata": {},
   "outputs": [],
   "source": [
    "def parser_emnlp(target_path):\n",
    "    html_content = open(target_path, \"r\", encoding=\"utf-8\").read()\n",
    "    soup = BeautifulSoup(html_content, \"lxml\")\n",
    "    body_tag = soup.find(\"body\")\n",
    "    if not body_tag:\n",
    "        raise ValueError(\"No body tag found\")\n",
    "    \n",
    "    result = \"\"\n",
    "\n",
    "        # 遍历body中的所有li组件\n",
    "    for li in body_tag.find_all(\"li\"):\n",
    "        span = li.find(\"span\")\n",
    "        if span:\n",
    "            result += span.get_text(strip=True) + \"\\n\"\n",
    "\n",
    "    # 遍历body中的所有article组件\n",
    "    for article in body_tag.find_all(\"article\"):\n",
    "        span = article.find(\"span\")\n",
    "        if span:\n",
    "            result += span.get_text(strip=True) + \"\\n\"\n",
    "\n",
    "    # 遍历body中的所有p组件\n",
    "    for p in body_tag.find_all(\"p\"):\n",
    "        strong = p.find(\"strong\")\n",
    "        if strong:\n",
    "            result += strong.get_text(strip=True) + \"\\n\"\n",
    "\n",
    "    # 遍历body中的所有strong组件\n",
    "    for strong in body_tag.find_all(\"strong\"):\n",
    "        a = strong.find(\"a\")\n",
    "        if a:\n",
    "            result += a.get_text(strip=True) + \"\\n\"\n",
    "\n",
    "    level, conference, year = target_path.split(\"/\")[-1].split(\".\")[0].split(\"_\")\n",
    "    save_path = f\"./{level}/{conference}/{year}.txt\"\n",
    "    with open(save_path, \"w\", encoding=\"utf-8\") as f:\n",
    "        f.write(result.replace(\"=\\n\",\"\"))"
   ]
  },
  {
   "cell_type": "code",
   "execution_count": 103,
   "metadata": {},
   "outputs": [],
   "source": [
    "target_paths = [f\"./tmp/html/B_EMNLP_{i}.html\" for i in range(2019, 2025)]\n",
    "    \n",
    "# 使用 ThreadPoolExecutor 进行多线程处理\n",
    "with ThreadPoolExecutor(max_workers=4) as executor:\n",
    "    executor.map(parser_emnlp, target_paths)"
   ]
  },
  {
   "cell_type": "code",
   "execution_count": null,
   "metadata": {},
   "outputs": [],
   "source": []
  }
 ],
 "metadata": {
  "kernelspec": {
   "display_name": "paperlist",
   "language": "python",
   "name": "python3"
  },
  "language_info": {
   "codemirror_mode": {
    "name": "ipython",
    "version": 3
   },
   "file_extension": ".py",
   "mimetype": "text/x-python",
   "name": "python",
   "nbconvert_exporter": "python",
   "pygments_lexer": "ipython3",
   "version": "3.9.21"
  }
 },
 "nbformat": 4,
 "nbformat_minor": 2
}
